{
  "nbformat": 4,
  "nbformat_minor": 0,
  "metadata": {
    "colab": {
      "provenance": [],
      "include_colab_link": true
    },
    "kernelspec": {
      "name": "python3",
      "display_name": "Python 3"
    },
    "language_info": {
      "name": "python"
    }
  },
  "cells": [
    {
      "cell_type": "markdown",
      "metadata": {
        "id": "view-in-github",
        "colab_type": "text"
      },
      "source": [
        "<a href=\"https://colab.research.google.com/github/ACHMADIFANPRATAMA/Manipulasi-String/blob/main/Latihan_Manipulasi_String.ipynb\" target=\"_parent\"><img src=\"https://colab.research.google.com/assets/colab-badge.svg\" alt=\"Open In Colab\"/></a>"
      ]
    },
    {
      "cell_type": "markdown",
      "source": [
        "# **String**"
      ],
      "metadata": {
        "id": "oQTkVF1XUye0"
      }
    },
    {
      "cell_type": "code",
      "execution_count": 2,
      "metadata": {
        "id": "04B8u1HsUUkm"
      },
      "outputs": [],
      "source": [
        "nama = 'Wahid Abdulloh'\n",
        "\n",
        "asal = \"Indonesia\""
      ]
    },
    {
      "cell_type": "markdown",
      "source": [
        "# **Escape Characters**"
      ],
      "metadata": {
        "id": "P6UNtemdU2g-"
      }
    },
    {
      "cell_type": "markdown",
      "source": [
        "Dia berkata: \"Pergilah!\"\n",
        "\n",
        "Aku menimpali: \"Apakah kau ingin aku 'angkat kaki'?!\"\n",
        "\n",
        "Atau menampilkan karakter \\(^_^ \\) (/ -_-/)"
      ],
      "metadata": {
        "id": "AoGZ3paGVDXA"
      }
    },
    {
      "cell_type": "code",
      "source": [
        "print('Dia berkata: \"Pergilah!\"')"
      ],
      "metadata": {
        "colab": {
          "base_uri": "https://localhost:8080/"
        },
        "id": "5zSXFYdBUskU",
        "outputId": "f675cbaf-9d6b-41ee-c78b-e6218fff8084"
      },
      "execution_count": 1,
      "outputs": [
        {
          "output_type": "stream",
          "name": "stdout",
          "text": [
            "Dia berkata: \"Pergilah!\"\n"
          ]
        }
      ]
    },
    {
      "cell_type": "markdown",
      "source": [
        "Solusi: Mengkombinasikan tanda petik satu ('') dan tanda petik dua (\"\")"
      ],
      "metadata": {
        "id": "qRG1yM1aVW-k"
      }
    },
    {
      "cell_type": "code",
      "source": [
        "print('Dia berkata: \"Pergilah!\"')"
      ],
      "metadata": {
        "colab": {
          "base_uri": "https://localhost:8080/"
        },
        "id": "FBGYf_8kVLeV",
        "outputId": "dd84d2ec-d6b1-4903-800c-6aa2f055f887"
      },
      "execution_count": 3,
      "outputs": [
        {
          "output_type": "stream",
          "name": "stdout",
          "text": [
            "Dia berkata: \"Pergilah!\"\n"
          ]
        }
      ]
    },
    {
      "cell_type": "markdown",
      "source": [
        "Solusi lain: Karena di dalam string tersebut, baik tanda petik tunggal maupun tanda petik ganda sama-sama ditampilkan, maka solusinya adalah: escape string dengan backslash (\\)!"
      ],
      "metadata": {
        "id": "LpK0p1WQVrgy"
      }
    },
    {
      "cell_type": "code",
      "source": [
        "# menggunakan petik satu\n",
        "\n",
        "print('Aku menimpali: \"Apakah kau ingin aku \\'angkat kaki\\'?!\"')\n",
        "\n",
        "\n",
        "\n",
        "# menggunakan petik dua\n",
        "\n",
        "print(\"Aku menimpali: \\\"Apakah kau ingin aku 'angkat kaki'?!\\\"\")"
      ],
      "metadata": {
        "colab": {
          "base_uri": "https://localhost:8080/"
        },
        "id": "6aOCS3hgVrO1",
        "outputId": "f49b785d-f38f-4c97-b743-a6ab0a2d2b17"
      },
      "execution_count": 4,
      "outputs": [
        {
          "output_type": "stream",
          "name": "stdout",
          "text": [
            "Aku menimpali: \"Apakah kau ingin aku 'angkat kaki'?!\"\n",
            "Aku menimpali: \"Apakah kau ingin aku 'angkat kaki'?!\"\n"
          ]
        }
      ]
    },
    {
      "cell_type": "markdown",
      "source": [
        "Dua backslash di bawah ini akan menjadi satu saja!"
      ],
      "metadata": {
        "id": "xKOuGFr9W9km"
      }
    },
    {
      "cell_type": "code",
      "source": [
        "print('\\\\(^_^ \\) (/ -_-/)')"
      ],
      "metadata": {
        "colab": {
          "base_uri": "https://localhost:8080/"
        },
        "id": "T_hifc29V0sY",
        "outputId": "5a118811-9cd2-4803-962c-2842a07df141"
      },
      "execution_count": 5,
      "outputs": [
        {
          "output_type": "stream",
          "name": "stdout",
          "text": [
            "\\(^_^ \\) (/ -_-/)\n"
          ]
        }
      ]
    },
    {
      "cell_type": "markdown",
      "source": [
        "# **Operator in pada String**\n",
        "\n",
        "Operator keanggotan in berfungsi untuk mencari tahu apakah suatu karakter / kata terdapat pada sebuah string"
      ],
      "metadata": {
        "id": "wfdNJ7TWXGhA"
      }
    },
    {
      "cell_type": "code",
      "source": [
        "berita = 'Saya menangkap pencuri'\n",
        "\n",
        "print('menangkap'in berita) # output: True\n",
        "\n",
        "print('maling'in berita) # output: False"
      ],
      "metadata": {
        "id": "E5_1WMgMXLBz",
        "outputId": "e751a1e1-4c58-4164-d33c-a6d19c8880c8",
        "colab": {
          "base_uri": "https://localhost:8080/"
        }
      },
      "execution_count": 7,
      "outputs": [
        {
          "output_type": "stream",
          "name": "stdout",
          "text": [
            "True\n",
            "False\n"
          ]
        }
      ]
    },
    {
      "cell_type": "markdown",
      "source": [
        "# **Memotong String**\n",
        "\n",
        "\n",
        "**Indexing String**\n",
        "\n",
        "Indeks dimulai dari 0 (ujung kiri ke kanan).\n",
        "\n",
        "Indeks negatif dimulai dari -1 yang dihitung dari karakter paling kanan ke paling kiri."
      ],
      "metadata": {
        "id": "7gExG4EDX8RD"
      }
    },
    {
      "cell_type": "code",
      "source": [
        "nama = 'santoso'\n",
        "\n",
        "print(nama[4])\n"
      ],
      "metadata": {
        "id": "z-A3a67KYBcl",
        "outputId": "88bd8edd-f1b8-4340-b137-9ccdbea67aa7",
        "colab": {
          "base_uri": "https://localhost:8080/"
        }
      },
      "execution_count": 8,
      "outputs": [
        {
          "output_type": "stream",
          "name": "stdout",
          "text": [
            "o\n"
          ]
        }
      ]
    },
    {
      "cell_type": "markdown",
      "source": [
        "**Slicing String**\n",
        "\n",
        "Untuk melakukan slicing atau pemotongan string, kita bisa menggunakan range of index yang diapit oleh dua kurung siku ([]) dan dipisahkan oleh tanda titik dua (:)."
      ],
      "metadata": {
        "id": "tWvWfechYXZL"
      }
    },
    {
      "cell_type": "code",
      "source": [
        "judul = 'rumah hantu'\n",
        "\n",
        "\n",
        "print(judul[0:5])\n",
        "\n"
      ],
      "metadata": {
        "id": "FQU9EATCYnfG",
        "outputId": "fc91f77d-6675-4406-d1c7-f2829c888d8c",
        "colab": {
          "base_uri": "https://localhost:8080/"
        }
      },
      "execution_count": 9,
      "outputs": [
        {
          "output_type": "stream",
          "name": "stdout",
          "text": [
            "rumah\n"
          ]
        }
      ]
    },
    {
      "cell_type": "markdown",
      "source": [
        "# **Menghitung Panjang String**\n",
        "\n",
        "Kita bisa menghitung panjang string dengan fungsi bawaan python len()."
      ],
      "metadata": {
        "id": "z69KpNBQap01"
      }
    },
    {
      "cell_type": "code",
      "source": [
        "print(len('bagio'))\n",
        "\n"
      ],
      "metadata": {
        "id": "TQPNFo51axgm",
        "outputId": "1b6f4a78-13d8-423e-c12a-c96a1d249698",
        "colab": {
          "base_uri": "https://localhost:8080/"
        }
      },
      "execution_count": 10,
      "outputs": [
        {
          "output_type": "stream",
          "name": "stdout",
          "text": [
            "5\n"
          ]
        }
      ]
    },
    {
      "cell_type": "markdown",
      "source": [
        "# **Memeriksa Karakter Awal String dengan string.startswith()**\n",
        "\n",
        "kita akan memeriksa apakah nomor telepon diawali ‘+62’ atau tidak.\n",
        "\n",
        "Untuk melakukannya kita bisa menggunakan fungsi startswith() yang tersedia pada objek atau tipe data string"
      ],
      "metadata": {
        "id": "xyrUXLYtbS4I"
      }
    },
    {
      "cell_type": "code",
      "source": [
        "nomor_telepon_1 = '08765676432'\n",
        "\n",
        "nomor_telepon_2 = '09877865985'\n",
        "\n",
        "nomor_telepon_3 = '+62876543562'\n",
        "\n",
        "kode_negara = '+62'\n",
        "\n",
        "print(nomor_telepon_1.startswith(kode_negara))\n",
        "print(nomor_telepon_2.startswith(kode_negara))\n",
        "print(nomor_telepon_3.startswith(kode_negara))"
      ],
      "metadata": {
        "id": "WbT32cd4bikb",
        "outputId": "a5a74cdd-cd11-4f63-ff28-87f1b2fb8d65",
        "colab": {
          "base_uri": "https://localhost:8080/"
        }
      },
      "execution_count": 12,
      "outputs": [
        {
          "output_type": "stream",
          "name": "stdout",
          "text": [
            "False\n",
            "False\n",
            "True\n"
          ]
        }
      ]
    },
    {
      "cell_type": "markdown",
      "source": [
        "# **Memeriksa Karakter Akhir String dengan string.endswith()**\n",
        "\n",
        "Begitu pula untuk kebalikannya, kita bisa memanfaatkan fungsi endswith() yang terdapat pada objek string."
      ],
      "metadata": {
        "id": "EdeRqg26bwTq"
      }
    },
    {
      "cell_type": "code",
      "source": [
        "email_1 ='rahayu123@gmail.com'\n",
        "\n",
        "email_2 ='sipa54@id.com'\n",
        "\n",
        "\n",
        "print(email_1.endswith('gmail.com'))\n",
        "print(email_2.endswith('gmail.com'))"
      ],
      "metadata": {
        "id": "Rq4UUy0mb0n9",
        "outputId": "1e2229f6-845a-4346-978a-cb4d644834fa",
        "colab": {
          "base_uri": "https://localhost:8080/"
        }
      },
      "execution_count": 13,
      "outputs": [
        {
          "output_type": "stream",
          "name": "stdout",
          "text": [
            "True\n",
            "False\n"
          ]
        }
      ]
    },
    {
      "cell_type": "markdown",
      "source": [
        "# **Penggabungan String**\n",
        "\n",
        "Penggabungan string adalah teknik untuk menyusun atau mengkombinasikan beberapa string menjadi satu kesatuan. Hal ini juga biasa disebut sebagai string concatenation."
      ],
      "metadata": {
        "id": "dp6CRjG8cxqZ"
      }
    },
    {
      "cell_type": "code",
      "source": [
        "nama_depan = 'Achmad'\n",
        "\n",
        "nama_belakang = 'Ifan'\n",
        "\n",
        "\n",
        "nama_lengkap = nama_depan + nama_belakang\n",
        "\n",
        "print(nama_lengkap)"
      ],
      "metadata": {
        "id": "v0B6CLV5c3sQ",
        "outputId": "cd52f798-b245-4fac-e117-1758d5be97f7",
        "colab": {
          "base_uri": "https://localhost:8080/"
        }
      },
      "execution_count": 14,
      "outputs": [
        {
          "output_type": "stream",
          "name": "stdout",
          "text": [
            "AchmadIfan\n"
          ]
        }
      ]
    },
    {
      "cell_type": "markdown",
      "source": [
        "Karena spasi merupakan sebuah karakter, untuk menghasilkan nama_lengkap yang baik, anda harus menambahkannya dengan karakter spasi"
      ],
      "metadata": {
        "id": "X4dDpyygdMLQ"
      }
    },
    {
      "cell_type": "code",
      "source": [
        "print(nama_depan + ' ' + nama_belakang)"
      ],
      "metadata": {
        "id": "y56bNkeqdCgs",
        "outputId": "45ea0c30-b726-4659-ecbd-c78ab1152b7a",
        "colab": {
          "base_uri": "https://localhost:8080/"
        }
      },
      "execution_count": 15,
      "outputs": [
        {
          "output_type": "stream",
          "name": "stdout",
          "text": [
            "Achmad Ifan\n"
          ]
        }
      ]
    },
    {
      "cell_type": "markdown",
      "source": [
        "**String + Non String**\n",
        "\n",
        "Ingat, bahwa anda hanya bisa menambahkan string dengan string juga. Jika anda berusaha menambahkan string dengan integer, double, atau boolean dan sebagainya, maka anda akan mendapatkan error."
      ],
      "metadata": {
        "id": "68h5DPlWdaGr"
      }
    },
    {
      "cell_type": "code",
      "source": [
        "print('Sekarang tahun: ' + str(2021))"
      ],
      "metadata": {
        "colab": {
          "base_uri": "https://localhost:8080/"
        },
        "id": "uS9useEhdeTp",
        "outputId": "81348896-3e12-4ffb-f802-08a8c5e33148"
      },
      "execution_count": 17,
      "outputs": [
        {
          "output_type": "stream",
          "name": "stdout",
          "text": [
            "Sekarang tahun: 2021\n"
          ]
        }
      ]
    },
    {
      "cell_type": "markdown",
      "source": [
        "Solusinya adalah kita harus mengkonversi data integer menjadi string menggunakan fungsi str():"
      ],
      "metadata": {
        "id": "We5pkWxgdomf"
      }
    },
    {
      "cell_type": "code",
      "source": [
        "print('Sekarang tahun: ' + str(2005))"
      ],
      "metadata": {
        "id": "W9VeTdXBdrKx",
        "outputId": "6b59a2a0-2f4b-42a6-85eb-efeda0ed7f14",
        "colab": {
          "base_uri": "https://localhost:8080/"
        }
      },
      "execution_count": 18,
      "outputs": [
        {
          "output_type": "stream",
          "name": "stdout",
          "text": [
            "Sekarang tahun: 2005\n"
          ]
        }
      ]
    },
    {
      "cell_type": "markdown",
      "source": [
        "# **Perkalian String**\n",
        "\n",
        "Selain melakukan string concatenation menggunakan operator tambah (+), kita juga bisa menggunakan operator kali ('*').\n",
        "\n",
        "Operator perkalian ini akan mengulang-ulang string yang dikalikan."
      ],
      "metadata": {
        "id": "XXbJqI1ed1VS"
      }
    },
    {
      "cell_type": "code",
      "source": [
        "print('----------')\n",
        "\n",
        "print('-' * 75)"
      ],
      "metadata": {
        "id": "hGdMHRysd3jG",
        "outputId": "fbc1bbb4-371b-4c14-f9f1-ba6a97dd72d2",
        "colab": {
          "base_uri": "https://localhost:8080/"
        }
      },
      "execution_count": 19,
      "outputs": [
        {
          "output_type": "stream",
          "name": "stdout",
          "text": [
            "----------\n",
            "---------------------------------------------------------------------------\n"
          ]
        }
      ]
    }
  ]
}